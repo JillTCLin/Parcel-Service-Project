{
  "nbformat": 4,
  "nbformat_minor": 0,
  "metadata": {
    "colab": {
      "provenance": [],
      "collapsed_sections": [
        "vNORRc7WAAzy",
        "-NmDS7ymAGi0",
        "5nLM4frOAL6k",
        "M7eiKwEJkg-a",
        "gR4nPGrUlVIn",
        "naBrZUIJAexM",
        "wcZX_fEJnLvH",
        "JYOO3iwRDjqf",
        "bqojM4lAUVKw",
        "ZKgFwqiiVIW8"
      ],
      "authorship_tag": "ABX9TyOPPkFZ1wpt6q5srEOXQVRL",
      "include_colab_link": true
    },
    "kernelspec": {
      "name": "python3",
      "display_name": "Python 3"
    },
    "language_info": {
      "name": "python"
    }
  },
  "cells": [
    {
      "cell_type": "markdown",
      "metadata": {
        "id": "view-in-github",
        "colab_type": "text"
      },
      "source": [
        "<a href=\"https://colab.research.google.com/github/JillTCLin/Parcel-Service-Project/blob/master/Seattle_house_price.ipynb\" target=\"_parent\"><img src=\"https://colab.research.google.com/assets/colab-badge.svg\" alt=\"Open In Colab\"/></a>"
      ]
    },
    {
      "cell_type": "markdown",
      "source": [
        "# **Import the libraries**"
      ],
      "metadata": {
        "id": "vNORRc7WAAzy"
      }
    },
    {
      "cell_type": "code",
      "source": [
        "import numpy as np\n",
        "import pandas as pd\n",
        "import matplotlib.pyplot as plt\n",
        "import seaborn as sns"
      ],
      "metadata": {
        "id": "ps2ZN-LMF1q3"
      },
      "execution_count": null,
      "outputs": []
    },
    {
      "cell_type": "markdown",
      "source": [
        "# **Load and explore the dataset**"
      ],
      "metadata": {
        "id": "-NmDS7ymAGi0"
      }
    },
    {
      "cell_type": "code",
      "source": [
        "#load the dataset\n",
        "data = pd.read_csv(\"Seattle.csv\")\n",
        "\n",
        "X = data.iloc[:, :-1].values\n",
        "y = data.iloc[:, -1].values"
      ],
      "metadata": {
        "id": "hRFtPoYTF5VV"
      },
      "execution_count": null,
      "outputs": []
    },
    {
      "cell_type": "code",
      "source": [
        "#data overview and summary\n",
        "data"
      ],
      "metadata": {
        "colab": {
          "base_uri": "https://localhost:8080/",
          "height": 468
        },
        "id": "-_24fmFLF-Oj",
        "outputId": "4cc90d59-9f83-42a8-e8c7-a09a7c80babb"
      },
      "execution_count": null,
      "outputs": [
        {
          "output_type": "execute_result",
          "data": {
            "text/plain": [
              "      beds  baths  size size_units  lot_size lot_size_units  zip_code    price\n",
              "0        3    2.5  2590       sqft   6000.00           sqft     98144   795000\n",
              "1        4    2.0  2240       sqft      0.31           acre     98106   915000\n",
              "2        4    3.0  2040       sqft   3783.00           sqft     98107   950000\n",
              "3        4    3.0  3800       sqft   5175.00           sqft     98199  1950000\n",
              "4        2    2.0  1042       sqft       NaN            NaN     98102   950000\n",
              "...    ...    ...   ...        ...       ...            ...       ...      ...\n",
              "2516     5    4.5  5580       sqft      0.30           acre     98146  3800000\n",
              "2517     3    2.5  1390       sqft   1570.00           sqft     98126   575000\n",
              "2518     3    2.5  2950       sqft      0.47           acre     98118  3105000\n",
              "2519     5    5.0  3010       sqft   4887.00           sqft     98115  1807000\n",
              "2520     3    2.0  1301       sqft   3000.00           sqft     98103   895000\n",
              "\n",
              "[2521 rows x 8 columns]"
            ],
            "text/html": [
              "\n",
              "  <div id=\"df-421ae889-25e5-40bb-830d-3efdc4618022\">\n",
              "    <div class=\"colab-df-container\">\n",
              "      <div>\n",
              "<style scoped>\n",
              "    .dataframe tbody tr th:only-of-type {\n",
              "        vertical-align: middle;\n",
              "    }\n",
              "\n",
              "    .dataframe tbody tr th {\n",
              "        vertical-align: top;\n",
              "    }\n",
              "\n",
              "    .dataframe thead th {\n",
              "        text-align: right;\n",
              "    }\n",
              "</style>\n",
              "<table border=\"1\" class=\"dataframe\">\n",
              "  <thead>\n",
              "    <tr style=\"text-align: right;\">\n",
              "      <th></th>\n",
              "      <th>beds</th>\n",
              "      <th>baths</th>\n",
              "      <th>size</th>\n",
              "      <th>size_units</th>\n",
              "      <th>lot_size</th>\n",
              "      <th>lot_size_units</th>\n",
              "      <th>zip_code</th>\n",
              "      <th>price</th>\n",
              "    </tr>\n",
              "  </thead>\n",
              "  <tbody>\n",
              "    <tr>\n",
              "      <th>0</th>\n",
              "      <td>3</td>\n",
              "      <td>2.5</td>\n",
              "      <td>2590</td>\n",
              "      <td>sqft</td>\n",
              "      <td>6000.00</td>\n",
              "      <td>sqft</td>\n",
              "      <td>98144</td>\n",
              "      <td>795000</td>\n",
              "    </tr>\n",
              "    <tr>\n",
              "      <th>1</th>\n",
              "      <td>4</td>\n",
              "      <td>2.0</td>\n",
              "      <td>2240</td>\n",
              "      <td>sqft</td>\n",
              "      <td>0.31</td>\n",
              "      <td>acre</td>\n",
              "      <td>98106</td>\n",
              "      <td>915000</td>\n",
              "    </tr>\n",
              "    <tr>\n",
              "      <th>2</th>\n",
              "      <td>4</td>\n",
              "      <td>3.0</td>\n",
              "      <td>2040</td>\n",
              "      <td>sqft</td>\n",
              "      <td>3783.00</td>\n",
              "      <td>sqft</td>\n",
              "      <td>98107</td>\n",
              "      <td>950000</td>\n",
              "    </tr>\n",
              "    <tr>\n",
              "      <th>3</th>\n",
              "      <td>4</td>\n",
              "      <td>3.0</td>\n",
              "      <td>3800</td>\n",
              "      <td>sqft</td>\n",
              "      <td>5175.00</td>\n",
              "      <td>sqft</td>\n",
              "      <td>98199</td>\n",
              "      <td>1950000</td>\n",
              "    </tr>\n",
              "    <tr>\n",
              "      <th>4</th>\n",
              "      <td>2</td>\n",
              "      <td>2.0</td>\n",
              "      <td>1042</td>\n",
              "      <td>sqft</td>\n",
              "      <td>NaN</td>\n",
              "      <td>NaN</td>\n",
              "      <td>98102</td>\n",
              "      <td>950000</td>\n",
              "    </tr>\n",
              "    <tr>\n",
              "      <th>...</th>\n",
              "      <td>...</td>\n",
              "      <td>...</td>\n",
              "      <td>...</td>\n",
              "      <td>...</td>\n",
              "      <td>...</td>\n",
              "      <td>...</td>\n",
              "      <td>...</td>\n",
              "      <td>...</td>\n",
              "    </tr>\n",
              "    <tr>\n",
              "      <th>2516</th>\n",
              "      <td>5</td>\n",
              "      <td>4.5</td>\n",
              "      <td>5580</td>\n",
              "      <td>sqft</td>\n",
              "      <td>0.30</td>\n",
              "      <td>acre</td>\n",
              "      <td>98146</td>\n",
              "      <td>3800000</td>\n",
              "    </tr>\n",
              "    <tr>\n",
              "      <th>2517</th>\n",
              "      <td>3</td>\n",
              "      <td>2.5</td>\n",
              "      <td>1390</td>\n",
              "      <td>sqft</td>\n",
              "      <td>1570.00</td>\n",
              "      <td>sqft</td>\n",
              "      <td>98126</td>\n",
              "      <td>575000</td>\n",
              "    </tr>\n",
              "    <tr>\n",
              "      <th>2518</th>\n",
              "      <td>3</td>\n",
              "      <td>2.5</td>\n",
              "      <td>2950</td>\n",
              "      <td>sqft</td>\n",
              "      <td>0.47</td>\n",
              "      <td>acre</td>\n",
              "      <td>98118</td>\n",
              "      <td>3105000</td>\n",
              "    </tr>\n",
              "    <tr>\n",
              "      <th>2519</th>\n",
              "      <td>5</td>\n",
              "      <td>5.0</td>\n",
              "      <td>3010</td>\n",
              "      <td>sqft</td>\n",
              "      <td>4887.00</td>\n",
              "      <td>sqft</td>\n",
              "      <td>98115</td>\n",
              "      <td>1807000</td>\n",
              "    </tr>\n",
              "    <tr>\n",
              "      <th>2520</th>\n",
              "      <td>3</td>\n",
              "      <td>2.0</td>\n",
              "      <td>1301</td>\n",
              "      <td>sqft</td>\n",
              "      <td>3000.00</td>\n",
              "      <td>sqft</td>\n",
              "      <td>98103</td>\n",
              "      <td>895000</td>\n",
              "    </tr>\n",
              "  </tbody>\n",
              "</table>\n",
              "<p>2521 rows × 8 columns</p>\n",
              "</div>\n",
              "      <button class=\"colab-df-convert\" onclick=\"convertToInteractive('df-421ae889-25e5-40bb-830d-3efdc4618022')\"\n",
              "              title=\"Convert this dataframe to an interactive table.\"\n",
              "              style=\"display:none;\">\n",
              "        \n",
              "  <svg xmlns=\"http://www.w3.org/2000/svg\" height=\"24px\"viewBox=\"0 0 24 24\"\n",
              "       width=\"24px\">\n",
              "    <path d=\"M0 0h24v24H0V0z\" fill=\"none\"/>\n",
              "    <path d=\"M18.56 5.44l.94 2.06.94-2.06 2.06-.94-2.06-.94-.94-2.06-.94 2.06-2.06.94zm-11 1L8.5 8.5l.94-2.06 2.06-.94-2.06-.94L8.5 2.5l-.94 2.06-2.06.94zm10 10l.94 2.06.94-2.06 2.06-.94-2.06-.94-.94-2.06-.94 2.06-2.06.94z\"/><path d=\"M17.41 7.96l-1.37-1.37c-.4-.4-.92-.59-1.43-.59-.52 0-1.04.2-1.43.59L10.3 9.45l-7.72 7.72c-.78.78-.78 2.05 0 2.83L4 21.41c.39.39.9.59 1.41.59.51 0 1.02-.2 1.41-.59l7.78-7.78 2.81-2.81c.8-.78.8-2.07 0-2.86zM5.41 20L4 18.59l7.72-7.72 1.47 1.35L5.41 20z\"/>\n",
              "  </svg>\n",
              "      </button>\n",
              "      \n",
              "  <style>\n",
              "    .colab-df-container {\n",
              "      display:flex;\n",
              "      flex-wrap:wrap;\n",
              "      gap: 12px;\n",
              "    }\n",
              "\n",
              "    .colab-df-convert {\n",
              "      background-color: #E8F0FE;\n",
              "      border: none;\n",
              "      border-radius: 50%;\n",
              "      cursor: pointer;\n",
              "      display: none;\n",
              "      fill: #1967D2;\n",
              "      height: 32px;\n",
              "      padding: 0 0 0 0;\n",
              "      width: 32px;\n",
              "    }\n",
              "\n",
              "    .colab-df-convert:hover {\n",
              "      background-color: #E2EBFA;\n",
              "      box-shadow: 0px 1px 2px rgba(60, 64, 67, 0.3), 0px 1px 3px 1px rgba(60, 64, 67, 0.15);\n",
              "      fill: #174EA6;\n",
              "    }\n",
              "\n",
              "    [theme=dark] .colab-df-convert {\n",
              "      background-color: #3B4455;\n",
              "      fill: #D2E3FC;\n",
              "    }\n",
              "\n",
              "    [theme=dark] .colab-df-convert:hover {\n",
              "      background-color: #434B5C;\n",
              "      box-shadow: 0px 1px 3px 1px rgba(0, 0, 0, 0.15);\n",
              "      filter: drop-shadow(0px 1px 2px rgba(0, 0, 0, 0.3));\n",
              "      fill: #FFFFFF;\n",
              "    }\n",
              "  </style>\n",
              "\n",
              "      <script>\n",
              "        const buttonEl =\n",
              "          document.querySelector('#df-421ae889-25e5-40bb-830d-3efdc4618022 button.colab-df-convert');\n",
              "        buttonEl.style.display =\n",
              "          google.colab.kernel.accessAllowed ? 'block' : 'none';\n",
              "\n",
              "        async function convertToInteractive(key) {\n",
              "          const element = document.querySelector('#df-421ae889-25e5-40bb-830d-3efdc4618022');\n",
              "          const dataTable =\n",
              "            await google.colab.kernel.invokeFunction('convertToInteractive',\n",
              "                                                     [key], {});\n",
              "          if (!dataTable) return;\n",
              "\n",
              "          const docLinkHtml = 'Like what you see? Visit the ' +\n",
              "            '<a target=\"_blank\" href=https://colab.research.google.com/notebooks/data_table.ipynb>data table notebook</a>'\n",
              "            + ' to learn more about interactive tables.';\n",
              "          element.innerHTML = '';\n",
              "          dataTable['output_type'] = 'display_data';\n",
              "          await google.colab.output.renderOutput(dataTable, element);\n",
              "          const docLink = document.createElement('div');\n",
              "          docLink.innerHTML = docLinkHtml;\n",
              "          element.appendChild(docLink);\n",
              "        }\n",
              "      </script>\n",
              "    </div>\n",
              "  </div>\n",
              "  "
            ]
          },
          "metadata": {},
          "execution_count": 3
        }
      ]
    },
    {
      "cell_type": "code",
      "source": [
        "data.info()\n",
        "print(\"\\n\")\n",
        "data.describe().transpose()"
      ],
      "metadata": {
        "colab": {
          "base_uri": "https://localhost:8080/",
          "height": 605
        },
        "id": "lLSdHkxlNFx9",
        "outputId": "07284c2a-e54f-4db0-e42f-e1165ba50250"
      },
      "execution_count": null,
      "outputs": [
        {
          "output_type": "stream",
          "name": "stdout",
          "text": [
            "<class 'pandas.core.frame.DataFrame'>\n",
            "RangeIndex: 2521 entries, 0 to 2520\n",
            "Data columns (total 8 columns):\n",
            " #   Column          Non-Null Count  Dtype  \n",
            "---  ------          --------------  -----  \n",
            " 0   beds            2521 non-null   int64  \n",
            " 1   baths           2521 non-null   float64\n",
            " 2   size            2521 non-null   int64  \n",
            " 3   size_units      2521 non-null   object \n",
            " 4   lot_size        2097 non-null   float64\n",
            " 5   lot_size_units  2097 non-null   object \n",
            " 6   zip_code        2521 non-null   int64  \n",
            " 7   price           2521 non-null   int64  \n",
            "dtypes: float64(2), int64(4), object(2)\n",
            "memory usage: 157.7+ KB\n",
            "\n",
            "\n"
          ]
        },
        {
          "output_type": "execute_result",
          "data": {
            "text/plain": [
              "           count           mean            std        min       25%       50%  \\\n",
              "beds      2521.0       2.877033       1.247518       1.00       2.0       3.0   \n",
              "baths     2521.0       2.171956       1.004397       0.50       1.5       2.0   \n",
              "size      2521.0    1758.998017     921.608036     250.00    1086.0    1580.0   \n",
              "lot_size  2097.0    3896.245794    2714.651578       0.23    1263.0    4001.0   \n",
              "zip_code  2521.0   98123.984927      23.118736   98101.00   98108.0   98117.0   \n",
              "price     2521.0  966821.676319  887011.065516  159000.00  605000.0  813000.0   \n",
              "\n",
              "                75%         max  \n",
              "beds            4.0        15.0  \n",
              "baths           2.5         9.0  \n",
              "size         2270.0     11010.0  \n",
              "lot_size     6000.0      9998.0  \n",
              "zip_code    98126.0     98199.0  \n",
              "price     1115000.0  25000000.0  "
            ],
            "text/html": [
              "\n",
              "  <div id=\"df-96fd959f-f9e8-4746-a160-6063c603f59b\">\n",
              "    <div class=\"colab-df-container\">\n",
              "      <div>\n",
              "<style scoped>\n",
              "    .dataframe tbody tr th:only-of-type {\n",
              "        vertical-align: middle;\n",
              "    }\n",
              "\n",
              "    .dataframe tbody tr th {\n",
              "        vertical-align: top;\n",
              "    }\n",
              "\n",
              "    .dataframe thead th {\n",
              "        text-align: right;\n",
              "    }\n",
              "</style>\n",
              "<table border=\"1\" class=\"dataframe\">\n",
              "  <thead>\n",
              "    <tr style=\"text-align: right;\">\n",
              "      <th></th>\n",
              "      <th>count</th>\n",
              "      <th>mean</th>\n",
              "      <th>std</th>\n",
              "      <th>min</th>\n",
              "      <th>25%</th>\n",
              "      <th>50%</th>\n",
              "      <th>75%</th>\n",
              "      <th>max</th>\n",
              "    </tr>\n",
              "  </thead>\n",
              "  <tbody>\n",
              "    <tr>\n",
              "      <th>beds</th>\n",
              "      <td>2521.0</td>\n",
              "      <td>2.877033</td>\n",
              "      <td>1.247518</td>\n",
              "      <td>1.00</td>\n",
              "      <td>2.0</td>\n",
              "      <td>3.0</td>\n",
              "      <td>4.0</td>\n",
              "      <td>15.0</td>\n",
              "    </tr>\n",
              "    <tr>\n",
              "      <th>baths</th>\n",
              "      <td>2521.0</td>\n",
              "      <td>2.171956</td>\n",
              "      <td>1.004397</td>\n",
              "      <td>0.50</td>\n",
              "      <td>1.5</td>\n",
              "      <td>2.0</td>\n",
              "      <td>2.5</td>\n",
              "      <td>9.0</td>\n",
              "    </tr>\n",
              "    <tr>\n",
              "      <th>size</th>\n",
              "      <td>2521.0</td>\n",
              "      <td>1758.998017</td>\n",
              "      <td>921.608036</td>\n",
              "      <td>250.00</td>\n",
              "      <td>1086.0</td>\n",
              "      <td>1580.0</td>\n",
              "      <td>2270.0</td>\n",
              "      <td>11010.0</td>\n",
              "    </tr>\n",
              "    <tr>\n",
              "      <th>lot_size</th>\n",
              "      <td>2097.0</td>\n",
              "      <td>3896.245794</td>\n",
              "      <td>2714.651578</td>\n",
              "      <td>0.23</td>\n",
              "      <td>1263.0</td>\n",
              "      <td>4001.0</td>\n",
              "      <td>6000.0</td>\n",
              "      <td>9998.0</td>\n",
              "    </tr>\n",
              "    <tr>\n",
              "      <th>zip_code</th>\n",
              "      <td>2521.0</td>\n",
              "      <td>98123.984927</td>\n",
              "      <td>23.118736</td>\n",
              "      <td>98101.00</td>\n",
              "      <td>98108.0</td>\n",
              "      <td>98117.0</td>\n",
              "      <td>98126.0</td>\n",
              "      <td>98199.0</td>\n",
              "    </tr>\n",
              "    <tr>\n",
              "      <th>price</th>\n",
              "      <td>2521.0</td>\n",
              "      <td>966821.676319</td>\n",
              "      <td>887011.065516</td>\n",
              "      <td>159000.00</td>\n",
              "      <td>605000.0</td>\n",
              "      <td>813000.0</td>\n",
              "      <td>1115000.0</td>\n",
              "      <td>25000000.0</td>\n",
              "    </tr>\n",
              "  </tbody>\n",
              "</table>\n",
              "</div>\n",
              "      <button class=\"colab-df-convert\" onclick=\"convertToInteractive('df-96fd959f-f9e8-4746-a160-6063c603f59b')\"\n",
              "              title=\"Convert this dataframe to an interactive table.\"\n",
              "              style=\"display:none;\">\n",
              "        \n",
              "  <svg xmlns=\"http://www.w3.org/2000/svg\" height=\"24px\"viewBox=\"0 0 24 24\"\n",
              "       width=\"24px\">\n",
              "    <path d=\"M0 0h24v24H0V0z\" fill=\"none\"/>\n",
              "    <path d=\"M18.56 5.44l.94 2.06.94-2.06 2.06-.94-2.06-.94-.94-2.06-.94 2.06-2.06.94zm-11 1L8.5 8.5l.94-2.06 2.06-.94-2.06-.94L8.5 2.5l-.94 2.06-2.06.94zm10 10l.94 2.06.94-2.06 2.06-.94-2.06-.94-.94-2.06-.94 2.06-2.06.94z\"/><path d=\"M17.41 7.96l-1.37-1.37c-.4-.4-.92-.59-1.43-.59-.52 0-1.04.2-1.43.59L10.3 9.45l-7.72 7.72c-.78.78-.78 2.05 0 2.83L4 21.41c.39.39.9.59 1.41.59.51 0 1.02-.2 1.41-.59l7.78-7.78 2.81-2.81c.8-.78.8-2.07 0-2.86zM5.41 20L4 18.59l7.72-7.72 1.47 1.35L5.41 20z\"/>\n",
              "  </svg>\n",
              "      </button>\n",
              "      \n",
              "  <style>\n",
              "    .colab-df-container {\n",
              "      display:flex;\n",
              "      flex-wrap:wrap;\n",
              "      gap: 12px;\n",
              "    }\n",
              "\n",
              "    .colab-df-convert {\n",
              "      background-color: #E8F0FE;\n",
              "      border: none;\n",
              "      border-radius: 50%;\n",
              "      cursor: pointer;\n",
              "      display: none;\n",
              "      fill: #1967D2;\n",
              "      height: 32px;\n",
              "      padding: 0 0 0 0;\n",
              "      width: 32px;\n",
              "    }\n",
              "\n",
              "    .colab-df-convert:hover {\n",
              "      background-color: #E2EBFA;\n",
              "      box-shadow: 0px 1px 2px rgba(60, 64, 67, 0.3), 0px 1px 3px 1px rgba(60, 64, 67, 0.15);\n",
              "      fill: #174EA6;\n",
              "    }\n",
              "\n",
              "    [theme=dark] .colab-df-convert {\n",
              "      background-color: #3B4455;\n",
              "      fill: #D2E3FC;\n",
              "    }\n",
              "\n",
              "    [theme=dark] .colab-df-convert:hover {\n",
              "      background-color: #434B5C;\n",
              "      box-shadow: 0px 1px 3px 1px rgba(0, 0, 0, 0.15);\n",
              "      filter: drop-shadow(0px 1px 2px rgba(0, 0, 0, 0.3));\n",
              "      fill: #FFFFFF;\n",
              "    }\n",
              "  </style>\n",
              "\n",
              "      <script>\n",
              "        const buttonEl =\n",
              "          document.querySelector('#df-96fd959f-f9e8-4746-a160-6063c603f59b button.colab-df-convert');\n",
              "        buttonEl.style.display =\n",
              "          google.colab.kernel.accessAllowed ? 'block' : 'none';\n",
              "\n",
              "        async function convertToInteractive(key) {\n",
              "          const element = document.querySelector('#df-96fd959f-f9e8-4746-a160-6063c603f59b');\n",
              "          const dataTable =\n",
              "            await google.colab.kernel.invokeFunction('convertToInteractive',\n",
              "                                                     [key], {});\n",
              "          if (!dataTable) return;\n",
              "\n",
              "          const docLinkHtml = 'Like what you see? Visit the ' +\n",
              "            '<a target=\"_blank\" href=https://colab.research.google.com/notebooks/data_table.ipynb>data table notebook</a>'\n",
              "            + ' to learn more about interactive tables.';\n",
              "          element.innerHTML = '';\n",
              "          dataTable['output_type'] = 'display_data';\n",
              "          await google.colab.output.renderOutput(dataTable, element);\n",
              "          const docLink = document.createElement('div');\n",
              "          docLink.innerHTML = docLinkHtml;\n",
              "          element.appendChild(docLink);\n",
              "        }\n",
              "      </script>\n",
              "    </div>\n",
              "  </div>\n",
              "  "
            ]
          },
          "metadata": {},
          "execution_count": 4
        }
      ]
    },
    {
      "cell_type": "code",
      "source": [
        "data['baths'] = data['baths'].astype('int64')"
      ],
      "metadata": {
        "id": "NPg3YqQamZmu"
      },
      "execution_count": null,
      "outputs": []
    },
    {
      "cell_type": "markdown",
      "source": [
        "## Performance of raw data"
      ],
      "metadata": {
        "id": "6b47xbmmg7aR"
      }
    },
    {
      "cell_type": "code",
      "source": [
        "d0 = data[['size', 'price']]\n",
        "X = d0.iloc[:, :-1].values\n",
        "y = d0.iloc[:, -1].values"
      ],
      "metadata": {
        "id": "SmH23VeHf_nz"
      },
      "execution_count": null,
      "outputs": []
    },
    {
      "cell_type": "code",
      "source": [
        "from sklearn.model_selection import train_test_split\n",
        "X_train, X_test, y_train, y_test = train_test_split(X, y, test_size = 0.2, random_state = 0)"
      ],
      "metadata": {
        "id": "sB1XpsY9gQPm"
      },
      "execution_count": null,
      "outputs": []
    },
    {
      "cell_type": "code",
      "source": [
        "from sklearn.linear_model import LinearRegression\n",
        "\n",
        "# Model_0: simple linear regression with raw data\n",
        "\n",
        "model_0 = LinearRegression()\n",
        "model_0.fit(X_train, y_train)\n",
        "y_pred_0 = model_0.predict(X_test)"
      ],
      "metadata": {
        "id": "hgXRbNC8gcTr"
      },
      "execution_count": null,
      "outputs": []
    },
    {
      "cell_type": "code",
      "source": [
        "from sklearn import metrics\n",
        "from sklearn.metrics import mean_absolute_error\n",
        "from sklearn.metrics import mean_squared_error\n",
        "from sklearn.metrics import r2_score\n",
        "\n",
        "print('MAE:', metrics.mean_absolute_error(y_test, y_pred_0))\n",
        "print('MSE:', metrics.mean_squared_error(y_test, y_pred_0))\n",
        "\n",
        "#Calculate the R2 score by using the predicted and actual prices\n",
        "print('R² score: ', r2_score(y_test,y_pred_0))"
      ],
      "metadata": {
        "colab": {
          "base_uri": "https://localhost:8080/"
        },
        "id": "f1WSq7CVf90r",
        "outputId": "f1a3a976-e1bb-415e-e6c6-9ed2c60c9a19"
      },
      "execution_count": null,
      "outputs": [
        {
          "output_type": "stream",
          "name": "stdout",
          "text": [
            "MAE: 284651.3467050522\n",
            "MSE: 1279373166942.5896\n",
            "R² score:  0.14475742535070535\n"
          ]
        }
      ]
    },
    {
      "cell_type": "markdown",
      "source": [
        "# **Prepare and clean the data**"
      ],
      "metadata": {
        "id": "5nLM4frOAL6k"
      }
    },
    {
      "cell_type": "markdown",
      "source": [
        "## Analyze data"
      ],
      "metadata": {
        "id": "XCctpnGWsYmP"
      }
    },
    {
      "cell_type": "code",
      "source": [
        "#visualize the distribution of numerical data by histogram\n",
        "data.hist(figsize=(14,8), bins=20)"
      ],
      "metadata": {
        "colab": {
          "base_uri": "https://localhost:8080/"
        },
        "id": "cBVgRvU_gIDB",
        "outputId": "c94d6956-e678-4916-c30f-12370cc8aa82"
      },
      "execution_count": null,
      "outputs": [
        {
          "output_type": "execute_result",
          "data": {
            "text/plain": [
              "array([[<Axes: title={'center': 'beds'}>,\n",
              "        <Axes: title={'center': 'baths'}>],\n",
              "       [<Axes: title={'center': 'size'}>,\n",
              "        <Axes: title={'center': 'lot_size'}>],\n",
              "       [<Axes: title={'center': 'zip_code'}>,\n",
              "        <Axes: title={'center': 'price'}>]], dtype=object)"
            ]
          },
          "metadata": {},
          "execution_count": 10
        },
        {
          "output_type": "display_data",
          "data": {
            "text/plain": [
              "<Figure size 1008x576 with 6 Axes>"
            ],
            "image/png": "[encoded data removed]"
          },
          "metadata": {
            "needs_background": "light"
          }
        }
      ]
    },
    {
      "cell_type": "code",
      "source": [
        "#visualize price in the raw data\n",
        "fig = plt.figure(figsize=(10,7))\n",
        "fig.add_subplot(2,1,1)\n",
        "sns.histplot(data['price'])\n",
        "fig.add_subplot(2,1,2)\n",
        "sns.boxplot(x=data['price'])\n",
        "plt.tight_layout()"
      ],
      "metadata": {
        "colab": {
          "base_uri": "https://localhost:8080/"
        },
        "id": "qN7jfIaSqIMA",
        "outputId": "ae1f9561-dc2b-44c0-b4de-86736329cb18"
      },
      "execution_count": null,
      "outputs": [
        {
          "output_type": "display_data",
          "data": {
            "text/plain": [
              "<Figure size 720x504 with 2 Axes>"
            ],
            "image/png": "[encoded data removed]"
          },
          "metadata": {
            "needs_background": "light"
          }
        }
      ]
    },
    {
      "cell_type": "code",
      "source": [
        "data.plot.scatter(x='beds',y='price')\n",
        "data.plot.scatter(x='baths',y='price')\n",
        "data.plot.scatter(x='size',y='price')\n",
        "data.plot.scatter(x='lot_size',y='price')"
      ],
      "metadata": {
        "colab": {
          "base_uri": "https://localhost:8080/"
        },
        "id": "BBgw53IbmHLn",
        "outputId": "ce79a8bb-9946-4adb-94b8-289d656a0d11"
      },
      "execution_count": null,
      "outputs": [
        {
          "output_type": "stream",
          "name": "stderr",
          "text": [
            "/usr/local/lib/python3.9/dist-packages/pandas/plotting/_matplotlib/core.py:1114: UserWarning: No data for colormapping provided via 'c'. Parameters 'cmap' will be ignored\n",
            "  scatter = ax.scatter(\n"
          ]
        },
        {
          "output_type": "execute_result",
          "data": {
            "text/plain": [
              "<Axes: xlabel='lot_size', ylabel='price'>"
            ]
          },
          "metadata": {},
          "execution_count": 12
        },
        {
          "output_type": "display_data",
          "data": {
            "text/plain": [
              "<Figure size 432x288 with 1 Axes>"
            ],
            "image/png": "[encoded data removed]"
          },
          "metadata": {
            "needs_background": "light"
          }
        },
        {
          "output_type": "display_data",
          "data": {
            "text/plain": [
              "<Figure size 432x288 with 1 Axes>"
            ],
            "image/png": "[encoded data removed]"
          },
          "metadata": {
            "needs_background": "light"
          }
        },
        {
          "output_type": "display_data",
          "data": {
            "text/plain": [
              "<Figure size 432x288 with 1 Axes>"
            ],
            "image/png": "[encoded data removed]"
          },
          "metadata": {
            "needs_background": "light"
          }
        },
        {
          "output_type": "display_data",
          "data": {
            "text/plain": [
              "<Figure size 432x288 with 1 Axes>"
            ],
            "image/png": "[encoded data removed]"
          },
          "metadata": {
            "needs_background": "light"
          }
        }
      ]
    },
    {
      "cell_type": "markdown",
      "source": [
        "## Outliers"
      ],
      "metadata": {
        "id": "M7eiKwEJkg-a"
      }
    },
    {
      "cell_type": "code",
      "source": [
        "#https://www.youtube.com/watch?v=Vc4cXIAa69Y\n",
        "#IQR method: use interquartile range to detect outliers\n",
        "#define a function called \"outliers\" which returns a list of index of outliers\n",
        "def outliers(df, ft):\n",
        "  Q1 = df[ft].quantile(0.25)\n",
        "  Q3 = df[ft].quantile(0.75)\n",
        "  IQR = Q3-Q1\n",
        "\n",
        "  lower_bound = Q1 - 1.5 * IQR\n",
        "  upper_bound = Q3 + 1.5 * IQR\n",
        "\n",
        "  list = df.index[(df[ft] < lower_bound) | (df[ft] > upper_bound)]\n",
        "\n",
        "  return list"
      ],
      "metadata": {
        "id": "9uNFDDYUI2dR"
      },
      "execution_count": null,
      "outputs": []
    },
    {
      "cell_type": "code",
      "source": [
        "#create an empty list to store the output indices from multiple columns\n",
        "\n",
        "index_list = []\n",
        "for feature in ['price']:  #'beds', 'baths', 'size','lot_size'\n",
        "  index_list.extend(outliers(data,feature))"
      ],
      "metadata": {
        "id": "lV97NRHGXaCZ"
      },
      "execution_count": null,
      "outputs": []
    },
    {
      "cell_type": "code",
      "source": [
        "#define a fuction called \"remove\" which returns a cleaned dataset without outliers\n",
        "\n",
        "def remove(df,ls):\n",
        "  ls = sorted(set(ls))\n",
        "  df = df.drop(ls)\n",
        "  return df"
      ],
      "metadata": {
        "id": "AxWuCGF5X8zQ"
      },
      "execution_count": null,
      "outputs": []
    },
    {
      "cell_type": "code",
      "source": [
        "d1 = remove(data,index_list)"
      ],
      "metadata": {
        "id": "4E8iNO_oJVay"
      },
      "execution_count": null,
      "outputs": []
    },
    {
      "cell_type": "code",
      "source": [
        "print (\"Shape Of The Before Ouliers: \",data.shape)\n",
        "print (\"Shape Of The After Ouliers: \",d1.shape)"
      ],
      "metadata": {
        "colab": {
          "base_uri": "https://localhost:8080/"
        },
        "id": "VEOkkDkHZbjK",
        "outputId": "9edc4e1f-ca9b-4ea4-9578-a83c099a7698"
      },
      "execution_count": null,
      "outputs": [
        {
          "output_type": "stream",
          "name": "stdout",
          "text": [
            "Shape Of The Before Ouliers:  (2521, 8)\n",
            "Shape Of The After Ouliers:  (2374, 8)\n"
          ]
        }
      ]
    },
    {
      "cell_type": "markdown",
      "source": [
        "## Missing data"
      ],
      "metadata": {
        "id": "f0R9am-WkUvy"
      }
    },
    {
      "cell_type": "code",
      "source": [
        "#find the sum of missing values\n",
        "d1.isnull().sum()"
      ],
      "metadata": {
        "colab": {
          "base_uri": "https://localhost:8080/"
        },
        "id": "cLfIQhtSmRCk",
        "outputId": "5fb7e818-a81b-477c-fbc7-5623988e78d0"
      },
      "execution_count": null,
      "outputs": [
        {
          "output_type": "execute_result",
          "data": {
            "text/plain": [
              "beds                0\n",
              "baths               0\n",
              "size                0\n",
              "size_units          0\n",
              "lot_size          417\n",
              "lot_size_units    417\n",
              "zip_code            0\n",
              "price               0\n",
              "dtype: int64"
            ]
          },
          "metadata": {},
          "execution_count": 18
        }
      ]
    },
    {
      "cell_type": "code",
      "source": [
        "#fill NaN values with size value, assumed min lot size is equal to house size\n",
        "d1['lot_size'] = d1['lot_size'].fillna((d1['size'].mean()))"
      ],
      "metadata": {
        "id": "GN3Es4S9A7k0"
      },
      "execution_count": null,
      "outputs": []
    },
    {
      "cell_type": "markdown",
      "source": [
        "## Uniform mearsurement of lot size"
      ],
      "metadata": {
        "id": "gR4nPGrUlVIn"
      }
    },
    {
      "cell_type": "code",
      "source": [
        "#count numbers of acre and sqft in the lot_size_units\n",
        "print(d1.groupby(['lot_size_units']).size())"
      ],
      "metadata": {
        "colab": {
          "base_uri": "https://localhost:8080/"
        },
        "id": "wunBOxGmES7O",
        "outputId": "107da234-5f7b-4e04-a32f-5c734539f800"
      },
      "execution_count": null,
      "outputs": [
        {
          "output_type": "stream",
          "name": "stdout",
          "text": [
            "lot_size_units\n",
            "acre     251\n",
            "sqft    1706\n",
            "dtype: int64\n"
          ]
        }
      ]
    },
    {
      "cell_type": "code",
      "source": [
        "#convert value of acre to square feet in the lot_size column\n",
        "d1.loc[d1['lot_size_units'] == 'acre', 'lot_size'] = d1[d1['lot_size_units'] == 'acre'] ['lot_size']*43560"
      ],
      "metadata": {
        "id": "7p2bxjidmbpT"
      },
      "execution_count": null,
      "outputs": []
    },
    {
      "cell_type": "code",
      "source": [
        "#unify the units of lot size in the lot_size_units column\n",
        "d1.loc[d1['lot_size_units'] == 'acre', 'lot_size_units'] = 'sqft'\n",
        "d1['lot_size_units'] = d1['lot_size_units'].fillna('sqft')\n",
        "\n",
        "d1.isnull().sum()"
      ],
      "metadata": {
        "colab": {
          "base_uri": "https://localhost:8080/"
        },
        "id": "GFo7eg8oB4dz",
        "outputId": "af76fb9b-9b0f-42e9-a160-73dbf8179a74"
      },
      "execution_count": null,
      "outputs": [
        {
          "output_type": "execute_result",
          "data": {
            "text/plain": [
              "beds              0\n",
              "baths             0\n",
              "size              0\n",
              "size_units        0\n",
              "lot_size          0\n",
              "lot_size_units    0\n",
              "zip_code          0\n",
              "price             0\n",
              "dtype: int64"
            ]
          },
          "metadata": {},
          "execution_count": 22
        }
      ]
    },
    {
      "cell_type": "code",
      "source": [
        "d1 = d1.reset_index(drop=True)"
      ],
      "metadata": {
        "id": "wk8dQR4v5IJR"
      },
      "execution_count": null,
      "outputs": []
    },
    {
      "cell_type": "code",
      "source": [
        "d1['lot_size'] = d1['lot_size'].astype('int64')"
      ],
      "metadata": {
        "id": "8JhCpyutAVI5"
      },
      "execution_count": null,
      "outputs": []
    },
    {
      "cell_type": "markdown",
      "source": [
        "## **Find the correlation of each column in the dataset**"
      ],
      "metadata": {
        "id": "ET77BLsk1H0z"
      }
    },
    {
      "cell_type": "code",
      "source": [
        "data.corr()"
      ],
      "metadata": {
        "colab": {
          "base_uri": "https://localhost:8080/"
        },
        "id": "O_4ybi-2ggWn",
        "outputId": "f715576f-693e-495a-b94e-199bb93ce7c1"
      },
      "execution_count": null,
      "outputs": [
        {
          "output_type": "execute_result",
          "data": {
            "text/plain": [
              "              beds     baths      size  lot_size  zip_code     price\n",
              "beds      1.000000  0.649864  0.770757  0.279501  0.081527  0.316855\n",
              "baths     0.649864  1.000000  0.645223  0.060997  0.009402  0.322530\n",
              "size      0.770757  0.645223  1.000000  0.263893  0.087106  0.476061\n",
              "lot_size  0.279501  0.060997  0.263893  1.000000  0.148520  0.084253\n",
              "zip_code  0.081527  0.009402  0.087106  0.148520  1.000000 -0.031812\n",
              "price     0.316855  0.322530  0.476061  0.084253 -0.031812  1.000000"
            ],
            "text/html": [
              "\n",
              "  <div id=\"df-667c29aa-f5a4-4c4e-9f0b-dbd1f40233a0\">\n",
              "    <div class=\"colab-df-container\">\n",
              "      <div>\n",
              "<style scoped>\n",
              "    .dataframe tbody tr th:only-of-type {\n",
              "        vertical-align: middle;\n",
              "    }\n",
              "\n",
              "    .dataframe tbody tr th {\n",
              "        vertical-align: top;\n",
              "    }\n",
              "\n",
              "    .dataframe thead th {\n",
              "        text-align: right;\n",
              "    }\n",
              "</style>\n",
              "<table border=\"1\" class=\"dataframe\">\n",
              "  <thead>\n",
              "    <tr style=\"text-align: right;\">\n",
              "      <th></th>\n",
              "      <th>beds</th>\n",
              "      <th>baths</th>\n",
              "      <th>size</th>\n",
              "      <th>lot_size</th>\n",
              "      <th>zip_code</th>\n",
              "      <th>price</th>\n",
              "    </tr>\n",
              "  </thead>\n",
              "  <tbody>\n",
              "    <tr>\n",
              "      <th>beds</th>\n",
              "      <td>1.000000</td>\n",
              "      <td>0.649864</td>\n",
              "      <td>0.770757</td>\n",
              "      <td>0.279501</td>\n",
              "      <td>0.081527</td>\n",
              "      <td>0.316855</td>\n",
              "    </tr>\n",
              "    <tr>\n",
              "      <th>baths</th>\n",
              "      <td>0.649864</td>\n",
              "      <td>1.000000</td>\n",
              "      <td>0.645223</td>\n",
              "      <td>0.060997</td>\n",
              "      <td>0.009402</td>\n",
              "      <td>0.322530</td>\n",
              "    </tr>\n",
              "    <tr>\n",
              "      <th>size</th>\n",
              "      <td>0.770757</td>\n",
              "      <td>0.645223</td>\n",
              "      <td>1.000000</td>\n",
              "      <td>0.263893</td>\n",
              "      <td>0.087106</td>\n",
              "      <td>0.476061</td>\n",
              "    </tr>\n",
              "    <tr>\n",
              "      <th>lot_size</th>\n",
              "      <td>0.279501</td>\n",
              "      <td>0.060997</td>\n",
              "      <td>0.263893</td>\n",
              "      <td>1.000000</td>\n",
              "      <td>0.148520</td>\n",
              "      <td>0.084253</td>\n",
              "    </tr>\n",
              "    <tr>\n",
              "      <th>zip_code</th>\n",
              "      <td>0.081527</td>\n",
              "      <td>0.009402</td>\n",
              "      <td>0.087106</td>\n",
              "      <td>0.148520</td>\n",
              "      <td>1.000000</td>\n",
              "      <td>-0.031812</td>\n",
              "    </tr>\n",
              "    <tr>\n",
              "      <th>price</th>\n",
              "      <td>0.316855</td>\n",
              "      <td>0.322530</td>\n",
              "      <td>0.476061</td>\n",
              "      <td>0.084253</td>\n",
              "      <td>-0.031812</td>\n",
              "      <td>1.000000</td>\n",
              "    </tr>\n",
              "  </tbody>\n",
              "</table>\n",
              "</div>\n",
              "      <button class=\"colab-df-convert\" onclick=\"convertToInteractive('df-667c29aa-f5a4-4c4e-9f0b-dbd1f40233a0')\"\n",
              "              title=\"Convert this dataframe to an interactive table.\"\n",
              "              style=\"display:none;\">\n",
              "        \n",
              "  <svg xmlns=\"http://www.w3.org/2000/svg\" height=\"24px\"viewBox=\"0 0 24 24\"\n",
              "       width=\"24px\">\n",
              "    <path d=\"M0 0h24v24H0V0z\" fill=\"none\"/>\n",
              "    <path d=\"M18.56 5.44l.94 2.06.94-2.06 2.06-.94-2.06-.94-.94-2.06-.94 2.06-2.06.94zm-11 1L8.5 8.5l.94-2.06 2.06-.94-2.06-.94L8.5 2.5l-.94 2.06-2.06.94zm10 10l.94 2.06.94-2.06 2.06-.94-2.06-.94-.94-2.06-.94 2.06-2.06.94z\"/><path d=\"M17.41 7.96l-1.37-1.37c-.4-.4-.92-.59-1.43-.59-.52 0-1.04.2-1.43.59L10.3 9.45l-7.72 7.72c-.78.78-.78 2.05 0 2.83L4 21.41c.39.39.9.59 1.41.59.51 0 1.02-.2 1.41-.59l7.78-7.78 2.81-2.81c.8-.78.8-2.07 0-2.86zM5.41 20L4 18.59l7.72-7.72 1.47 1.35L5.41 20z\"/>\n",
              "  </svg>\n",
              "      </button>\n",
              "      \n",
              "  <style>\n",
              "    .colab-df-container {\n",
              "      display:flex;\n",
              "      flex-wrap:wrap;\n",
              "      gap: 12px;\n",
              "    }\n",
              "\n",
              "    .colab-df-convert {\n",
              "      background-color: #E8F0FE;\n",
              "      border: none;\n",
              "      border-radius: 50%;\n",
              "      cursor: pointer;\n",
              "      display: none;\n",
              "      fill: #1967D2;\n",
              "      height: 32px;\n",
              "      padding: 0 0 0 0;\n",
              "      width: 32px;\n",
              "    }\n",
              "\n",
              "    .colab-df-convert:hover {\n",
              "      background-color: #E2EBFA;\n",
              "      box-shadow: 0px 1px 2px rgba(60, 64, 67, 0.3), 0px 1px 3px 1px rgba(60, 64, 67, 0.15);\n",
              "      fill: #174EA6;\n",
              "    }\n",
              "\n",
              "    [theme=dark] .colab-df-convert {\n",
              "      background-color: #3B4455;\n",
              "      fill: #D2E3FC;\n",
              "    }\n",
              "\n",
              "    [theme=dark] .colab-df-convert:hover {\n",
              "      background-color: #434B5C;\n",
              "      box-shadow: 0px 1px 3px 1px rgba(0, 0, 0, 0.15);\n",
              "      filter: drop-shadow(0px 1px 2px rgba(0, 0, 0, 0.3));\n",
              "      fill: #FFFFFF;\n",
              "    }\n",
              "  </style>\n",
              "\n",
              "      <script>\n",
              "        const buttonEl =\n",
              "          document.querySelector('#df-667c29aa-f5a4-4c4e-9f0b-dbd1f40233a0 button.colab-df-convert');\n",
              "        buttonEl.style.display =\n",
              "          google.colab.kernel.accessAllowed ? 'block' : 'none';\n",
              "\n",
              "        async function convertToInteractive(key) {\n",
              "          const element = document.querySelector('#df-667c29aa-f5a4-4c4e-9f0b-dbd1f40233a0');\n",
              "          const dataTable =\n",
              "            await google.colab.kernel.invokeFunction('convertToInteractive',\n",
              "                                                     [key], {});\n",
              "          if (!dataTable) return;\n",
              "\n",
              "          const docLinkHtml = 'Like what you see? Visit the ' +\n",
              "            '<a target=\"_blank\" href=https://colab.research.google.com/notebooks/data_table.ipynb>data table notebook</a>'\n",
              "            + ' to learn more about interactive tables.';\n",
              "          element.innerHTML = '';\n",
              "          dataTable['output_type'] = 'display_data';\n",
              "          await google.colab.output.renderOutput(dataTable, element);\n",
              "          const docLink = document.createElement('div');\n",
              "          docLink.innerHTML = docLinkHtml;\n",
              "          element.appendChild(docLink);\n",
              "        }\n",
              "      </script>\n",
              "    </div>\n",
              "  </div>\n",
              "  "
            ]
          },
          "metadata": {},
          "execution_count": 25
        }
      ]
    },
    {
      "cell_type": "code",
      "source": [
        "d1.corr()"
      ],
      "metadata": {
        "colab": {
          "base_uri": "https://localhost:8080/"
        },
        "id": "jDqEzfP0gm_k",
        "outputId": "9e1052fa-93a0-4ccd-a9e5-9c68b413ff04"
      },
      "execution_count": null,
      "outputs": [
        {
          "output_type": "execute_result",
          "data": {
            "text/plain": [
              "              beds     baths      size  lot_size  zip_code     price\n",
              "beds      1.000000  0.621962  0.766314 -0.045585  0.093437  0.544246\n",
              "baths     0.621962  1.000000  0.609118 -0.029204  0.015646  0.523512\n",
              "size      0.766314  0.609118  1.000000 -0.034014  0.106725  0.722842\n",
              "lot_size -0.045585 -0.029204 -0.034014  1.000000 -0.009657 -0.036137\n",
              "zip_code  0.093437  0.015646  0.106725 -0.009657  1.000000 -0.013368\n",
              "price     0.544246  0.523512  0.722842 -0.036137 -0.013368  1.000000"
            ],
            "text/html": [
              "\n",
              "  <div id=\"df-64e8a1f7-6f29-48f8-a3fb-638793ec745c\">\n",
              "    <div class=\"colab-df-container\">\n",
              "      <div>\n",
              "<style scoped>\n",
              "    .dataframe tbody tr th:only-of-type {\n",
              "        vertical-align: middle;\n",
              "    }\n",
              "\n",
              "    .dataframe tbody tr th {\n",
              "        vertical-align: top;\n",
              "    }\n",
              "\n",
              "    .dataframe thead th {\n",
              "        text-align: right;\n",
              "    }\n",
              "</style>\n",
              "<table border=\"1\" class=\"dataframe\">\n",
              "  <thead>\n",
              "    <tr style=\"text-align: right;\">\n",
              "      <th></th>\n",
              "      <th>beds</th>\n",
              "      <th>baths</th>\n",
              "      <th>size</th>\n",
              "      <th>lot_size</th>\n",
              "      <th>zip_code</th>\n",
              "      <th>price</th>\n",
              "    </tr>\n",
              "  </thead>\n",
              "  <tbody>\n",
              "    <tr>\n",
              "      <th>beds</th>\n",
              "      <td>1.000000</td>\n",
              "      <td>0.621962</td>\n",
              "      <td>0.766314</td>\n",
              "      <td>-0.045585</td>\n",
              "      <td>0.093437</td>\n",
              "      <td>0.544246</td>\n",
              "    </tr>\n",
              "    <tr>\n",
              "      <th>baths</th>\n",
              "      <td>0.621962</td>\n",
              "      <td>1.000000</td>\n",
              "      <td>0.609118</td>\n",
              "      <td>-0.029204</td>\n",
              "      <td>0.015646</td>\n",
              "      <td>0.523512</td>\n",
              "    </tr>\n",
              "    <tr>\n",
              "      <th>size</th>\n",
              "      <td>0.766314</td>\n",
              "      <td>0.609118</td>\n",
              "      <td>1.000000</td>\n",
              "      <td>-0.034014</td>\n",
              "      <td>0.106725</td>\n",
              "      <td>0.722842</td>\n",
              "    </tr>\n",
              "    <tr>\n",
              "      <th>lot_size</th>\n",
              "      <td>-0.045585</td>\n",
              "      <td>-0.029204</td>\n",
              "      <td>-0.034014</td>\n",
              "      <td>1.000000</td>\n",
              "      <td>-0.009657</td>\n",
              "      <td>-0.036137</td>\n",
              "    </tr>\n",
              "    <tr>\n",
              "      <th>zip_code</th>\n",
              "      <td>0.093437</td>\n",
              "      <td>0.015646</td>\n",
              "      <td>0.106725</td>\n",
              "      <td>-0.009657</td>\n",
              "      <td>1.000000</td>\n",
              "      <td>-0.013368</td>\n",
              "    </tr>\n",
              "    <tr>\n",
              "      <th>price</th>\n",
              "      <td>0.544246</td>\n",
              "      <td>0.523512</td>\n",
              "      <td>0.722842</td>\n",
              "      <td>-0.036137</td>\n",
              "      <td>-0.013368</td>\n",
              "      <td>1.000000</td>\n",
              "    </tr>\n",
              "  </tbody>\n",
              "</table>\n",
              "</div>\n",
              "      <button class=\"colab-df-convert\" onclick=\"convertToInteractive('df-64e8a1f7-6f29-48f8-a3fb-638793ec745c')\"\n",
              "              title=\"Convert this dataframe to an interactive table.\"\n",
              "              style=\"display:none;\">\n",
              "        \n",
              "  <svg xmlns=\"http://www.w3.org/2000/svg\" height=\"24px\"viewBox=\"0 0 24 24\"\n",
              "       width=\"24px\">\n",
              "    <path d=\"M0 0h24v24H0V0z\" fill=\"none\"/>\n",
              "    <path d=\"M18.56 5.44l.94 2.06.94-2.06 2.06-.94-2.06-.94-.94-2.06-.94 2.06-2.06.94zm-11 1L8.5 8.5l.94-2.06 2.06-.94-2.06-.94L8.5 2.5l-.94 2.06-2.06.94zm10 10l.94 2.06.94-2.06 2.06-.94-2.06-.94-.94-2.06-.94 2.06-2.06.94z\"/><path d=\"M17.41 7.96l-1.37-1.37c-.4-.4-.92-.59-1.43-.59-.52 0-1.04.2-1.43.59L10.3 9.45l-7.72 7.72c-.78.78-.78 2.05 0 2.83L4 21.41c.39.39.9.59 1.41.59.51 0 1.02-.2 1.41-.59l7.78-7.78 2.81-2.81c.8-.78.8-2.07 0-2.86zM5.41 20L4 18.59l7.72-7.72 1.47 1.35L5.41 20z\"/>\n",
              "  </svg>\n",
              "      </button>\n",
              "      \n",
              "  <style>\n",
              "    .colab-df-container {\n",
              "      display:flex;\n",
              "      flex-wrap:wrap;\n",
              "      gap: 12px;\n",
              "    }\n",
              "\n",
              "    .colab-df-convert {\n",
              "      background-color: #E8F0FE;\n",
              "      border: none;\n",
              "      border-radius: 50%;\n",
              "      cursor: pointer;\n",
              "      display: none;\n",
              "      fill: #1967D2;\n",
              "      height: 32px;\n",
              "      padding: 0 0 0 0;\n",
              "      width: 32px;\n",
              "    }\n",
              "\n",
              "    .colab-df-convert:hover {\n",
              "      background-color: #E2EBFA;\n",
              "      box-shadow: 0px 1px 2px rgba(60, 64, 67, 0.3), 0px 1px 3px 1px rgba(60, 64, 67, 0.15);\n",
              "      fill: #174EA6;\n",
              "    }\n",
              "\n",
              "    [theme=dark] .colab-df-convert {\n",
              "      background-color: #3B4455;\n",
              "      fill: #D2E3FC;\n",
              "    }\n",
              "\n",
              "    [theme=dark] .colab-df-convert:hover {\n",
              "      background-color: #434B5C;\n",
              "      box-shadow: 0px 1px 3px 1px rgba(0, 0, 0, 0.15);\n",
              "      filter: drop-shadow(0px 1px 2px rgba(0, 0, 0, 0.3));\n",
              "      fill: #FFFFFF;\n",
              "    }\n",
              "  </style>\n",
              "\n",
              "      <script>\n",
              "        const buttonEl =\n",
              "          document.querySelector('#df-64e8a1f7-6f29-48f8-a3fb-638793ec745c button.colab-df-convert');\n",
              "        buttonEl.style.display =\n",
              "          google.colab.kernel.accessAllowed ? 'block' : 'none';\n",
              "\n",
              "        async function convertToInteractive(key) {\n",
              "          const element = document.querySelector('#df-64e8a1f7-6f29-48f8-a3fb-638793ec745c');\n",
              "          const dataTable =\n",
              "            await google.colab.kernel.invokeFunction('convertToInteractive',\n",
              "                                                     [key], {});\n",
              "          if (!dataTable) return;\n",
              "\n",
              "          const docLinkHtml = 'Like what you see? Visit the ' +\n",
              "            '<a target=\"_blank\" href=https://colab.research.google.com/notebooks/data_table.ipynb>data table notebook</a>'\n",
              "            + ' to learn more about interactive tables.';\n",
              "          element.innerHTML = '';\n",
              "          dataTable['output_type'] = 'display_data';\n",
              "          await google.colab.output.renderOutput(dataTable, element);\n",
              "          const docLink = document.createElement('div');\n",
              "          docLink.innerHTML = docLinkHtml;\n",
              "          element.appendChild(docLink);\n",
              "        }\n",
              "      </script>\n",
              "    </div>\n",
              "  </div>\n",
              "  "
            ]
          },
          "metadata": {},
          "execution_count": 26
        }
      ]
    },
    {
      "cell_type": "code",
      "source": [
        "plt.figure(figsize=(15,8))\n",
        "sns.heatmap(d1.corr(),annot=True, cmap='YlGnBu')"
      ],
      "metadata": {
        "colab": {
          "base_uri": "https://localhost:8080/"
        },
        "id": "sY_N3AmXMHhJ",
        "outputId": "b8a835d6-9b40-4f43-a85a-a24ed3d6e8eb"
      },
      "execution_count": null,
      "outputs": [
        {
          "output_type": "execute_result",
          "data": {
            "text/plain": [
              "<Axes: >"
            ]
          },
          "metadata": {},
          "execution_count": 27
        },
        {
          "output_type": "display_data",
          "data": {
            "text/plain": [
              "<Figure size 1080x576 with 2 Axes>"
            ],
            "image/png": "[encoded data removed]"
          },
          "metadata": {
            "needs_background": "light"
          }
        }
      ]
    },
    {
      "cell_type": "markdown",
      "source": [
        "# **Simple Linear Regression - Model 1**\n"
      ],
      "metadata": {
        "id": "naBrZUIJAexM"
      }
    },
    {
      "cell_type": "code",
      "source": [
        "#select size as independent variable input\n",
        "d2 = d1[['size', 'price']]\n",
        "\n",
        "X = d2.iloc[:, :-1].values\n",
        "y = d2.iloc[:, -1].values"
      ],
      "metadata": {
        "id": "F5mt56tUimMm"
      },
      "execution_count": null,
      "outputs": []
    },
    {
      "cell_type": "code",
      "source": [
        "# Split the dataset into the Train set and Test set\n",
        "\n",
        "X_train, X_test, y_train, y_test = train_test_split(X, y, test_size = 0.2, random_state = 0)"
      ],
      "metadata": {
        "id": "3jtxXsyli4xL"
      },
      "execution_count": null,
      "outputs": []
    },
    {
      "cell_type": "code",
      "source": [
        "X_train.shape, y_train.shape"
      ],
      "metadata": {
        "colab": {
          "base_uri": "https://localhost:8080/"
        },
        "id": "UD-3nkiyDvt_",
        "outputId": "1fa025cc-638d-4930-b3bd-35ce84f27999"
      },
      "execution_count": null,
      "outputs": [
        {
          "output_type": "execute_result",
          "data": {
            "text/plain": [
              "((1899, 1), (1899,))"
            ]
          },
          "metadata": {},
          "execution_count": 30
        }
      ]
    },
    {
      "cell_type": "code",
      "source": [
        "# Train the model and predict the test set results.\n",
        "# Model_1: simple linear regression with processed data\n",
        "\n",
        "model_1 = LinearRegression()\n",
        "model_1.fit(X_train, y_train)\n",
        "\n",
        "# Predict the Test set results\n",
        "y_pred_1 = model_1.predict(X_test)\n"
      ],
      "metadata": {
        "id": "cZZIQuQD5Odl"
      },
      "execution_count": null,
      "outputs": []
    },
    {
      "cell_type": "markdown",
      "source": [
        "# **Multiple  Linear Regression - Mode 2**\n"
      ],
      "metadata": {
        "id": "wcZX_fEJnLvH"
      }
    },
    {
      "cell_type": "code",
      "source": [
        "#select bed, baths, abd size as independent variable input\n",
        "d3 = d1[['beds','baths','size','price']]\n",
        "\n",
        "X = d3.iloc[:, :-1].values\n",
        "y = d3.iloc[:, -1].values"
      ],
      "metadata": {
        "id": "BrBITX4U4NOU"
      },
      "execution_count": null,
      "outputs": []
    },
    {
      "cell_type": "code",
      "source": [
        "# Split the dataset into the Train set and Test set\n",
        "\n",
        "X_train, X_test, y_train, y_test = train_test_split(X, y, test_size = 0.2, random_state = 0)"
      ],
      "metadata": {
        "id": "nWxI8iD3n1QX"
      },
      "execution_count": null,
      "outputs": []
    },
    {
      "cell_type": "code",
      "source": [
        "X_train.shape, y_train.shape"
      ],
      "metadata": {
        "colab": {
          "base_uri": "https://localhost:8080/"
        },
        "id": "re0qfVERrqJo",
        "outputId": "87c2d6d7-86f2-4258-b26e-59a346c2b70a"
      },
      "execution_count": null,
      "outputs": [
        {
          "output_type": "execute_result",
          "data": {
            "text/plain": [
              "((1899, 3), (1899,))"
            ]
          },
          "metadata": {},
          "execution_count": 34
        }
      ]
    },
    {
      "cell_type": "code",
      "source": [
        "# Train the model and predict the test set results\n",
        "# Model_2: multiple linear regression with processed data\n",
        "\n",
        "model_2 = LinearRegression()\n",
        "model_2.fit(X_train, y_train)\n",
        "\n",
        "# Predict the Test set results\n",
        "y_pred_2 = model_2.predict(X_test)"
      ],
      "metadata": {
        "id": "u6EbT2Hsjvu5"
      },
      "execution_count": null,
      "outputs": []
    },
    {
      "cell_type": "markdown",
      "source": [
        "#**Evaluate the model performance**"
      ],
      "metadata": {
        "id": "JYOO3iwRDjqf"
      }
    },
    {
      "cell_type": "code",
      "source": [
        "print('MAE:', metrics.mean_absolute_error(y_test, y_pred_1))\n",
        "print('MSE:', metrics.mean_squared_error(y_test, y_pred_1))\n",
        "#Calculate the R2 score by using the predicted and actual fare prices\n",
        "print('R² score: ', r2_score(y_test,y_pred_1))"
      ],
      "metadata": {
        "colab": {
          "base_uri": "https://localhost:8080/",
          "height": 233
        },
        "id": "OlNwtt9liPNG",
        "outputId": "aaf45a40-dc85-4be0-937a-c83ea85a0195"
      },
      "execution_count": null,
      "outputs": [
        {
          "output_type": "error",
          "ename": "NameError",
          "evalue": "ignored",
          "traceback": [
            "\u001b[0;31m---------------------------------------------------------------------------\u001b[0m",
            "\u001b[0;31mNameError\u001b[0m                                 Traceback (most recent call last)",
            "\u001b[0;32m<ipython-input-1-a8e3f6dadfb6>\u001b[0m in \u001b[0;36m<cell line: 1>\u001b[0;34m()\u001b[0m\n\u001b[0;32m----> 1\u001b[0;31m \u001b[0mprint\u001b[0m\u001b[0;34m(\u001b[0m\u001b[0;34m'MAE:'\u001b[0m\u001b[0;34m,\u001b[0m \u001b[0mmetrics\u001b[0m\u001b[0;34m.\u001b[0m\u001b[0mmean_absolute_error\u001b[0m\u001b[0;34m(\u001b[0m\u001b[0my_test\u001b[0m\u001b[0;34m,\u001b[0m \u001b[0my_pred_1\u001b[0m\u001b[0;34m)\u001b[0m\u001b[0;34m)\u001b[0m\u001b[0;34m\u001b[0m\u001b[0;34m\u001b[0m\u001b[0m\n\u001b[0m\u001b[1;32m      2\u001b[0m \u001b[0mprint\u001b[0m\u001b[0;34m(\u001b[0m\u001b[0;34m'MSE:'\u001b[0m\u001b[0;34m,\u001b[0m \u001b[0mmetrics\u001b[0m\u001b[0;34m.\u001b[0m\u001b[0mmean_squared_error\u001b[0m\u001b[0;34m(\u001b[0m\u001b[0my_test\u001b[0m\u001b[0;34m,\u001b[0m \u001b[0my_pred_1\u001b[0m\u001b[0;34m)\u001b[0m\u001b[0;34m)\u001b[0m\u001b[0;34m\u001b[0m\u001b[0;34m\u001b[0m\u001b[0m\n\u001b[1;32m      3\u001b[0m \u001b[0;31m#Calculate the R2 score by using the predicted and actual fare prices\u001b[0m\u001b[0;34m\u001b[0m\u001b[0;34m\u001b[0m\u001b[0m\n\u001b[1;32m      4\u001b[0m \u001b[0mprint\u001b[0m\u001b[0;34m(\u001b[0m\u001b[0;34m'R² score: '\u001b[0m\u001b[0;34m,\u001b[0m \u001b[0mr2_score\u001b[0m\u001b[0;34m(\u001b[0m\u001b[0my_test\u001b[0m\u001b[0;34m,\u001b[0m\u001b[0my_pred_1\u001b[0m\u001b[0;34m)\u001b[0m\u001b[0;34m)\u001b[0m\u001b[0;34m\u001b[0m\u001b[0;34m\u001b[0m\u001b[0m\n",
            "\u001b[0;31mNameError\u001b[0m: name 'metrics' is not defined"
          ]
        }
      ]
    },
    {
      "cell_type": "code",
      "source": [
        "print('MAE:', metrics.mean_absolute_error(y_test, y_pred_2))\n",
        "print('MSE:', metrics.mean_squared_error(y_test, y_pred_2))\n",
        "#Calculate the R2 score by using the predicted and actual fare prices\n",
        "print('R² score: ', r2_score(y_test,y_pred_2))"
      ],
      "metadata": {
        "id": "yhyqyXMTkupM"
      },
      "execution_count": null,
      "outputs": []
    },
    {
      "cell_type": "code",
      "source": [
        "# visualizing residuals\n",
        "fig = plt.figure(figsize=(10,5))\n",
        "residuals = (y_test- y_pred_1)\n",
        "sns.distplot(residuals)"
      ],
      "metadata": {
        "id": "hPnAbiwkmlJt"
      },
      "execution_count": null,
      "outputs": []
    },
    {
      "cell_type": "code",
      "source": [
        "# visualizing residuals\n",
        "fig = plt.figure(figsize=(10,5))\n",
        "residuals = (y_test- y_pred_2)\n",
        "sns.distplot(residuals)"
      ],
      "metadata": {
        "id": "8bFKULpTYwQG"
      },
      "execution_count": null,
      "outputs": []
    },
    {
      "cell_type": "markdown",
      "source": [
        "# Simple linear regression - Model 3\n",
        "\n",
        "\n",
        "\n",
        "\n",
        "\n"
      ],
      "metadata": {
        "id": "bqojM4lAUVKw"
      }
    },
    {
      "cell_type": "code",
      "source": [
        "#load the dataset\n",
        "data = pd.read_csv(\"Seattle2.csv\")\n",
        "\n",
        "X = data.iloc[:, :-1].values\n",
        "y = data.iloc[:, -1].values\n",
        "\n",
        "d4 = data[['size', 'price']]\n",
        "X = d4.iloc[:, :-1].values\n",
        "y = d4.iloc[:, -1].values"
      ],
      "metadata": {
        "id": "AxDqleTxUVKz"
      },
      "execution_count": null,
      "outputs": []
    },
    {
      "cell_type": "code",
      "source": [
        "from sklearn.model_selection import train_test_split\n",
        "X_train, X_test, y_train, y_test = train_test_split(X, y, test_size = 0.2, random_state = 0)"
      ],
      "metadata": {
        "id": "sm4V-dd4UVK1"
      },
      "execution_count": null,
      "outputs": []
    },
    {
      "cell_type": "code",
      "source": [
        "from sklearn.linear_model import LinearRegression\n",
        "\n",
        "# Model_3: simple linear regression\n",
        "\n",
        "model_3 = LinearRegression()\n",
        "model_3.fit(X_train, y_train)\n",
        "y_pred_3 = model_3.predict(X_test)"
      ],
      "metadata": {
        "id": "6W9q3jWAUVK2"
      },
      "execution_count": null,
      "outputs": []
    },
    {
      "cell_type": "code",
      "source": [
        "from sklearn import metrics\n",
        "from sklearn.metrics import mean_absolute_error\n",
        "from sklearn.metrics import mean_squared_error\n",
        "from sklearn.metrics import r2_score\n",
        "\n",
        "print('MAE:', metrics.mean_absolute_error(y_test, y_pred_3))\n",
        "print('MSE:', metrics.mean_squared_error(y_test, y_pred_3))\n",
        "\n",
        "#Calculate the R2 score by using the predicted and actual prices\n",
        "print('R² score: ', r2_score(y_test,y_pred_3))"
      ],
      "metadata": {
        "colab": {
          "base_uri": "https://localhost:8080/"
        },
        "outputId": "44d57980-02f8-4020-a6e0-6aa5c580a136",
        "id": "t4lpWaaPUVK4"
      },
      "execution_count": null,
      "outputs": [
        {
          "output_type": "stream",
          "name": "stdout",
          "text": [
            "MAE: 230999.20856797058\n",
            "MSE: 127036395644.48947\n",
            "R² score:  0.6158580483105964\n"
          ]
        }
      ]
    },
    {
      "cell_type": "code",
      "source": [
        "# visualizing residuals\n",
        "fig = plt.figure(figsize=(10,5))\n",
        "residuals = (y_test- y_pred_3)\n",
        "sns.distplot(residuals)"
      ],
      "metadata": {
        "colab": {
          "base_uri": "https://localhost:8080/",
          "height": 558
        },
        "id": "YCCgTxBbbyoa",
        "outputId": "1cddadf4-08fb-47c9-fcc0-981926284b4f"
      },
      "execution_count": null,
      "outputs": [
        {
          "output_type": "stream",
          "name": "stderr",
          "text": [
            "<ipython-input-60-4c845a3083ed>:4: UserWarning: \n",
            "\n",
            "`distplot` is a deprecated function and will be removed in seaborn v0.14.0.\n",
            "\n",
            "Please adapt your code to use either `displot` (a figure-level function with\n",
            "similar flexibility) or `histplot` (an axes-level function for histograms).\n",
            "\n",
            "For a guide to updating your code to use the new functions, please see\n",
            "https://gist.github.com/mwaskom/de44147ed2974457ad6372750bbe5751\n",
            "\n",
            "  sns.distplot(residuals)\n"
          ]
        },
        {
          "output_type": "execute_result",
          "data": {
            "text/plain": [
              "<Axes: ylabel='Density'>"
            ]
          },
          "metadata": {},
          "execution_count": 60
        },
        {
          "output_type": "display_data",
          "data": {
            "text/plain": [
              "<Figure size 720x360 with 1 Axes>"
            ],
            "image/png": "[encoded data removed]"
          },
          "metadata": {
            "needs_background": "light"
          }
        }
      ]
    },
    {
      "cell_type": "markdown",
      "source": [
        "# Multiple linear regression - Model 4\n",
        "\n",
        "\n"
      ],
      "metadata": {
        "id": "ZKgFwqiiVIW8"
      }
    },
    {
      "cell_type": "code",
      "source": [
        "#load the dataset\n",
        "data = pd.read_csv(\"Seattle2.csv\")\n",
        "\n",
        "X = data.iloc[:, :-1].values\n",
        "y = data.iloc[:, -1].values\n",
        "\n",
        "d5 = data[['beds','baths','size','price']]\n",
        "X = d5.iloc[:, :-1].values\n",
        "y = d5.iloc[:, -1].values"
      ],
      "metadata": {
        "id": "B9LG5N96VIW-"
      },
      "execution_count": null,
      "outputs": []
    },
    {
      "cell_type": "code",
      "source": [
        "from sklearn.model_selection import train_test_split\n",
        "X_train, X_test, y_train, y_test = train_test_split(X, y, test_size = 0.2, random_state = 0)"
      ],
      "metadata": {
        "id": "ozWTX3qgVIW_"
      },
      "execution_count": null,
      "outputs": []
    },
    {
      "cell_type": "code",
      "source": [
        "from sklearn.linear_model import LinearRegression\n",
        "\n",
        "# Model_4: multiple linear regression\n",
        "\n",
        "model_4 = LinearRegression()\n",
        "model_4.fit(X_train, y_train)\n",
        "y_pred_4 = model_4.predict(X_test)"
      ],
      "metadata": {
        "id": "bgorcplNVIXA"
      },
      "execution_count": null,
      "outputs": []
    },
    {
      "cell_type": "code",
      "source": [
        "from sklearn import metrics\n",
        "from sklearn.metrics import mean_absolute_error\n",
        "from sklearn.metrics import mean_squared_error\n",
        "from sklearn.metrics import r2_score\n",
        "\n",
        "print('MAE:', metrics.mean_absolute_error(y_test, y_pred_4))\n",
        "print('MSE:', metrics.mean_squared_error(y_test, y_pred_4))\n",
        "\n",
        "#Calculate the R2 score by using the predicted and actual prices\n",
        "print('R² score: ', r2_score(y_test,y_pred_4))"
      ],
      "metadata": {
        "colab": {
          "base_uri": "https://localhost:8080/"
        },
        "outputId": "68200882-033c-440b-954b-8ff0dcf3cdab",
        "id": "Re_3pZctVIXB"
      },
      "execution_count": null,
      "outputs": [
        {
          "output_type": "stream",
          "name": "stdout",
          "text": [
            "MAE: 224070.3287055065\n",
            "MSE: 114721506381.55576\n",
            "R² score:  0.6530967118628982\n"
          ]
        }
      ]
    },
    {
      "cell_type": "code",
      "source": [
        "# visualizing residuals\n",
        "fig = plt.figure(figsize=(10,5))\n",
        "residuals = (y_test- y_pred_4)\n",
        "sns.distplot(residuals)"
      ],
      "metadata": {
        "colab": {
          "base_uri": "https://localhost:8080/",
          "height": 558
        },
        "id": "Aq3887lCWzUp",
        "outputId": "be51e276-cd37-44d2-8892-6fe493e18629"
      },
      "execution_count": null,
      "outputs": [
        {
          "output_type": "stream",
          "name": "stderr",
          "text": [
            "<ipython-input-61-6a15751b6d00>:4: UserWarning: \n",
            "\n",
            "`distplot` is a deprecated function and will be removed in seaborn v0.14.0.\n",
            "\n",
            "Please adapt your code to use either `displot` (a figure-level function with\n",
            "similar flexibility) or `histplot` (an axes-level function for histograms).\n",
            "\n",
            "For a guide to updating your code to use the new functions, please see\n",
            "https://gist.github.com/mwaskom/de44147ed2974457ad6372750bbe5751\n",
            "\n",
            "  sns.distplot(residuals)\n"
          ]
        },
        {
          "output_type": "execute_result",
          "data": {
            "text/plain": [
              "<Axes: ylabel='Density'>"
            ]
          },
          "metadata": {},
          "execution_count": 61
        },
        {
          "output_type": "display_data",
          "data": {
            "text/plain": [
              "<Figure size 720x360 with 1 Axes>"
            ],
            "image/png": "[encoded data removed]"
          },
          "metadata": {
            "needs_background": "light"
          }
        }
      ]
    },
    {
      "cell_type": "markdown",
      "source": [
        "# **House price prediction Tool**"
      ],
      "metadata": {
        "id": "1m3nOQ8GE_UZ"
      }
    },
    {
      "cell_type": "code",
      "source": [
        "input_size = int(input(\"Please enter the square feet(number between 100 to 5000) of the house: \"))\n",
        "\n",
        "price = input_size * model_3.coef_ + model_3.intercept_\n",
        "print(\"The esitimate price is\", price)"
      ],
      "metadata": {
        "colab": {
          "base_uri": "https://localhost:8080/"
        },
        "id": "jABUiwp_TDNC",
        "outputId": "03d71a78-e1df-4fd4-daa9-4125ab8bff51"
      },
      "execution_count": null,
      "outputs": [
        {
          "output_type": "stream",
          "name": "stdout",
          "text": [
            "Please enter the square feet(number between 100 to 5000) of the house: 1000\n",
            "The esitimate price is [580969.02613691]\n"
          ]
        }
      ]
    },
    {
      "cell_type": "code",
      "source": [
        "'''\n",
        "input_bed = int(input(\"Please enter the number of bed of the house(bwtween 1 to 10): \"))\n",
        "input_bath = int(input(\"Please enter the number of bath of the house(bwtween 1 to 10): \"))\n",
        "input_size = int(input(\"Please enter the square feet(number between 100 to 5000) of the house: \"))\n",
        "\n",
        "price = model_4.predict([[input_bed,input_bath,input_size]])\n",
        "\n",
        "print(\"The esitimate price is\", price)\n",
        "'''"
      ],
      "metadata": {
        "colab": {
          "base_uri": "https://localhost:8080/"
        },
        "id": "iR-bQyPBXo0k",
        "outputId": "6c5211b1-7b5b-4a3f-8693-4d79cc499d89"
      },
      "execution_count": null,
      "outputs": [
        {
          "output_type": "stream",
          "name": "stdout",
          "text": [
            "Please enter the number of bed of the house(bwtween 1 to 10): 2\n",
            "Please enter the number of bath of the house(bwtween 1 to 10): 2\n",
            "Please enter the square feet(number between 100 to 5000) of the house: 1000\n",
            "The esitimate price is [631008.54187437]\n"
          ]
        }
      ]
    }
  ]
}